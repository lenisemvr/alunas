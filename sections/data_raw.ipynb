{
 "cells": [
  {
   "cell_type": "raw",
   "metadata": {},
   "source": [
    "---\n",
    "title: \"Dataset Bruto\"\n",
    "bibliography: references.bib\n",
    "---"
   ]
  },
  {
   "cell_type": "markdown",
   "metadata": {},
   "source": [
    "# Preparando o Ambiente\n",
    "\n",
    "Utilizamos a versão 3.9.12 do _python_, apresentando o nosso estudo a partir da interface jupyter[^1], usando anaconda[^2] como gerenciador de pacotes. As bibliotecas utilizadas e suas respectivas versões estão descritas a seguir:\n",
    "\n",
    "[^1]: https://jupyter.org/\n",
    "[^2]: https://www.anaconda.com/"
   ]
  },
  {
   "cell_type": "code",
   "execution_count": 1,
   "metadata": {},
   "outputs": [
    {
     "name": "stdout",
     "output_type": "stream",
     "text": [
      "requests==2.28.1\n",
      "pandas==1.4.2\n",
      "datatable\n",
      "tqdm==4.64.0"
     ]
    }
   ],
   "source": [
    "!cat ../requirements.txt"
   ]
  },
  {
   "cell_type": "code",
   "execution_count": 8,
   "metadata": {},
   "outputs": [
    {
     "name": "stdout",
     "output_type": "stream",
     "text": [
      "Requirement already satisfied: requests==2.28.1 in /Users/lenise.rodrigues/opt/anaconda3/lib/python3.9/site-packages (from -r ../requirements.txt (line 1)) (2.28.1)\n",
      "Requirement already satisfied: pandas==1.4.2 in /Users/lenise.rodrigues/opt/anaconda3/lib/python3.9/site-packages (from -r ../requirements.txt (line 2)) (1.4.2)\n",
      "Requirement already satisfied: datatable in /Users/lenise.rodrigues/opt/anaconda3/lib/python3.9/site-packages (from -r ../requirements.txt (line 3)) (1.0.0)\n",
      "Requirement already satisfied: tqdm==4.64.0 in /Users/lenise.rodrigues/opt/anaconda3/lib/python3.9/site-packages (from -r ../requirements.txt (line 4)) (4.64.0)\n",
      "Requirement already satisfied: urllib3<1.27,>=1.21.1 in /Users/lenise.rodrigues/opt/anaconda3/lib/python3.9/site-packages (from requests==2.28.1->-r ../requirements.txt (line 1)) (1.26.9)\n",
      "Requirement already satisfied: certifi>=2017.4.17 in /Users/lenise.rodrigues/opt/anaconda3/lib/python3.9/site-packages (from requests==2.28.1->-r ../requirements.txt (line 1)) (2021.10.8)\n",
      "Requirement already satisfied: charset-normalizer<3,>=2 in /Users/lenise.rodrigues/opt/anaconda3/lib/python3.9/site-packages (from requests==2.28.1->-r ../requirements.txt (line 1)) (2.0.4)\n",
      "Requirement already satisfied: idna<4,>=2.5 in /Users/lenise.rodrigues/opt/anaconda3/lib/python3.9/site-packages (from requests==2.28.1->-r ../requirements.txt (line 1)) (3.3)\n",
      "Requirement already satisfied: python-dateutil>=2.8.1 in /Users/lenise.rodrigues/opt/anaconda3/lib/python3.9/site-packages (from pandas==1.4.2->-r ../requirements.txt (line 2)) (2.8.2)\n",
      "Requirement already satisfied: pytz>=2020.1 in /Users/lenise.rodrigues/opt/anaconda3/lib/python3.9/site-packages (from pandas==1.4.2->-r ../requirements.txt (line 2)) (2021.3)\n",
      "Requirement already satisfied: numpy>=1.18.5 in /Users/lenise.rodrigues/opt/anaconda3/lib/python3.9/site-packages (from pandas==1.4.2->-r ../requirements.txt (line 2)) (1.21.5)\n",
      "Requirement already satisfied: six>=1.5 in /Users/lenise.rodrigues/opt/anaconda3/lib/python3.9/site-packages (from python-dateutil>=2.8.1->pandas==1.4.2->-r ../requirements.txt (line 2)) (1.16.0)\n",
      "Note: you may need to restart the kernel to use updated packages.\n"
     ]
    }
   ],
   "source": [
    "conda install pip\n",
    "pip install -r ../requirements.txt"
   ]
  },
  {
   "cell_type": "markdown",
   "metadata": {},
   "source": [
    "# Escolha do Dataset"
   ]
  },
  {
   "cell_type": "markdown",
   "metadata": {},
   "source": [
    "Buscamos uma base de dados de procedência confiável, que possuísse também dados históricos para possibilitar uma análise temporal mais apurada e não apenas um olhar mais fechado na última amostra. As bases selecionadas foram provenientes do Censo de Educação Superior,[^3] fornecido pelo INEP, , usando a tabela `Microdados | Censo da Educação Superior`, disponível em  `https://download.inep.gov.br/microdados/microdados_censo_da_educacao_superior_{year}.zip}`, em que o `year` corresponde ao ano alvo para cada coleta.  \n",
    "Levamos em consideração dados coletados no período entre 2010 e 2019 e, a partir disso, fizemos uma agregação de todas as tabelas em um único arquivo que chamamos de `cursos`.\n",
    "\n",
    "Abaixo, está o esse código de coleta dos microdados, usando uma função auxiliar para automatizar o processo.\n",
    "\n",
    "[^3]: https://www.gov.br/inep/pt-br/areas-de-atuacao/pesquisas-estatisticas-e-indicadores/censo-da-educacao-superior/resultados"
   ]
  },
  {
   "cell_type": "code",
   "execution_count": 15,
   "metadata": {},
   "outputs": [],
   "source": [
    "import requests, warnings\n",
    "import datatable as dt\n",
    "from tqdm import tqdm\n",
    "import os"
   ]
  },
  {
   "cell_type": "code",
   "execution_count": 16,
   "metadata": {},
   "outputs": [],
   "source": [
    "def download_raw_data(\n",
    "    url_base,\n",
    "    from_year,\n",
    "    to_year,\n",
    "    output_dir=''\n",
    "  ):\n",
    "  os.makedirs(os.path.dirname(output_dir), exist_ok=True)\n",
    "  years = range(from_year, to_year + 1)\n",
    "  n_years = to_year - from_year + 1\n",
    "  for y in tqdm(years, total=n_years):\n",
    "    fname = f'censo_{y}.zip'\n",
    "    export = output_dir + fname\n",
    "    url = url_base.format(year = y)\n",
    "    try:\n",
    "      with warnings.catch_warnings():\n",
    "        warnings.simplefilter(\"ignore\")\n",
    "        r = requests.get(\n",
    "          url, verify = False)\n",
    "      with open(export, 'wb') as f:\n",
    "        f.write(r.content)\n",
    "      print(f'Success to download year: {y}')\n",
    "    except:\n",
    "      print(f'Failed to download year: {y} from {url}')\n"
   ]
  },
  {
   "cell_type": "code",
   "execution_count": 17,
   "metadata": {},
   "outputs": [
    {
     "name": "stderr",
     "output_type": "stream",
     "text": [
      " 10%|█         | 1/10 [00:03<00:27,  3.10s/it]"
     ]
    },
    {
     "name": "stdout",
     "output_type": "stream",
     "text": [
      "Success to download year: 2010\n"
     ]
    },
    {
     "name": "stderr",
     "output_type": "stream",
     "text": [
      " 20%|██        | 2/10 [00:12<00:56,  7.02s/it]"
     ]
    },
    {
     "name": "stdout",
     "output_type": "stream",
     "text": [
      "Success to download year: 2011\n"
     ]
    },
    {
     "name": "stderr",
     "output_type": "stream",
     "text": [
      " 30%|███       | 3/10 [00:18<00:45,  6.51s/it]"
     ]
    },
    {
     "name": "stdout",
     "output_type": "stream",
     "text": [
      "Success to download year: 2012\n"
     ]
    },
    {
     "name": "stderr",
     "output_type": "stream",
     "text": [
      " 40%|████      | 4/10 [00:25<00:40,  6.75s/it]"
     ]
    },
    {
     "name": "stdout",
     "output_type": "stream",
     "text": [
      "Success to download year: 2013\n"
     ]
    },
    {
     "name": "stderr",
     "output_type": "stream",
     "text": [
      " 50%|█████     | 5/10 [00:34<00:36,  7.37s/it]"
     ]
    },
    {
     "name": "stdout",
     "output_type": "stream",
     "text": [
      "Success to download year: 2014\n"
     ]
    },
    {
     "name": "stderr",
     "output_type": "stream",
     "text": [
      " 60%|██████    | 6/10 [00:39<00:26,  6.69s/it]"
     ]
    },
    {
     "name": "stdout",
     "output_type": "stream",
     "text": [
      "Success to download year: 2015\n"
     ]
    },
    {
     "name": "stderr",
     "output_type": "stream",
     "text": [
      " 70%|███████   | 7/10 [00:48<00:22,  7.51s/it]"
     ]
    },
    {
     "name": "stdout",
     "output_type": "stream",
     "text": [
      "Success to download year: 2016\n"
     ]
    },
    {
     "name": "stderr",
     "output_type": "stream",
     "text": [
      " 80%|████████  | 8/10 [00:59<00:16,  8.43s/it]"
     ]
    },
    {
     "name": "stdout",
     "output_type": "stream",
     "text": [
      "Success to download year: 2017\n"
     ]
    },
    {
     "name": "stderr",
     "output_type": "stream",
     "text": [
      " 90%|█████████ | 9/10 [01:06<00:08,  8.04s/it]"
     ]
    },
    {
     "name": "stdout",
     "output_type": "stream",
     "text": [
      "Success to download year: 2018\n"
     ]
    },
    {
     "name": "stderr",
     "output_type": "stream",
     "text": [
      "100%|██████████| 10/10 [01:14<00:00,  7.46s/it]"
     ]
    },
    {
     "name": "stdout",
     "output_type": "stream",
     "text": [
      "Success to download year: 2019\n"
     ]
    },
    {
     "name": "stderr",
     "output_type": "stream",
     "text": [
      "\n"
     ]
    }
   ],
   "source": [
    "url_base = '/'.join([\n",
    "  'https://download.inep.gov.br',\n",
    "  'microdados',\n",
    "  'microdados_censo_da_educacao_superior_{year}.zip'])\n",
    "\n",
    "from_year = 2010\n",
    "to_year = 2019\n",
    "\n",
    "output_dir = '../data/raw/'\n",
    "download_raw_data(\n",
    "  url_base,\n",
    "  from_year,\n",
    "  to_year,\n",
    "  output_dir\n",
    ")"
   ]
  }
 ],
 "metadata": {
  "kernelspec": {
   "display_name": "Python 3.9.12 ('base')",
   "language": "python",
   "name": "python3"
  },
  "language_info": {
   "codemirror_mode": {
    "name": "ipython",
    "version": 3
   },
   "file_extension": ".py",
   "mimetype": "text/x-python",
   "name": "python",
   "nbconvert_exporter": "python",
   "pygments_lexer": "ipython3",
   "version": "3.9.12"
  },
  "orig_nbformat": 4,
  "vscode": {
   "interpreter": {
    "hash": "de2e2a7f76ec950c607c53417877c2c98a9c5e954222e12c19953f27b7e57dcb"
   }
  }
 },
 "nbformat": 4,
 "nbformat_minor": 2
}
