{
 "cells": [
  {
   "cell_type": "raw",
   "metadata": {},
   "source": [
    "---\n",
    "title: \"Trabalhos Relacionados\"\n",
    "bibliography: references.bib\n",
    "---"
   ]
  },
  {
   "cell_type": "markdown",
   "metadata": {},
   "source": [
    "A participação feminina nos cursos das áreas de _STEM_ é o objeto de estudo da pesquisa e encontramos alguns trabalhos correlatos. \n",
    "Apesar da presença de mulheres na ciência ter aumentado de forma global, ainda há uma sub-representação delas no sistema científico e tecnológico e um pequeno número de mulheres em determinadas áreas ou subáreas do conhecimento, por exemplo, nas ciências exatas e engenharias.[@de2020participaccao] Essa também será nossa investigação. \n",
    "As autoras ainda complementam que é preciso incentivar crianças e jovens para as carreiras científicas, e o Estado Brasileiro tem papel fundamental de fomentar ações para que as meninas possam ter contato com a ciência, tecnologia e inovação desde os ciclos mais básicos da educação, o que corrobora com nossa pesquisa que pretende servir de embasamento para discussões desse cunho.\n",
    "\n",
    "No caso do Brasil, conforme o trabalho de [@iwamoto2022mulheres] a legislação federal que aborda a inclusão dos cidadãos em geral nas _STEM_ é escassa, e, no caso de inclusão de mulheres nas áreas, raríssima.\n",
    "O que demonstra o quanto ainda temos que avançar, a nível de legislação e também na permanência de mulheres na área.\n",
    "\n",
    "Quanto ao segundo tema, [@silva2022problemas], diz que o ambiente acadêmico nas áreas de _STEM_ apresenta diversos problemas que prejudicam o desempenho acadêmico das mulheres. E mesmo que o viés dessa pesquisa não seja explorar os motivos da desistência, foram  considerados  estudos  que  relatam  tanto  a  atuação  de  mulheres  na  ciência  e  tecnologia,  como  a  inclusão  e  permanência de mulheres em cursos relacionados à _STEM_.\n",
    "Que pode auxiliar na análise dos dados extraídos em nossa pesquisa quanto a estatísticas de ingresso, evasão e outras análises.\n",
    "\n",
    "Não foi encontrada literatura científica relacionada a metodologia de desenvolvimento de _datasets_ curados, com  proveniência, seguindo os princípios _FAIR_ sobre a presença de mulheres nos cursos de graduação nas áreas de _STEM_. Portanto, este trabalho se baseia nesta metodologia de pesquisa para apresentar um estudo sobre a participação feminina nos cursos de graduação na área de _STEM_.\n"
   ]
  }
 ],
 "metadata": {
  "kernelspec": {
   "display_name": "Python 3.10.1 64-bit ('3.10.1')",
   "language": "python",
   "name": "python3"
  },
  "language_info": {
   "name": "python",
   "version": "3.10.1"
  },
  "orig_nbformat": 4,
  "vscode": {
   "interpreter": {
    "hash": "71236bedbf6315987238766142db09e135a5d015a46098f9e0ac8d41786924da"
   }
  }
 },
 "nbformat": 4,
 "nbformat_minor": 2
}
