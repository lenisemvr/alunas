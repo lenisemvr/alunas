{
 "cells": [
  {
   "cell_type": "raw",
   "metadata": {},
   "source": [
    "---\n",
    "title: \"Trabalhos Relacionados\"\n",
    "---"
   ]
  },
  {
   "cell_type": "markdown",
   "metadata": {},
   "source": [
    "Traz dados de graduandos e da participação de mulheres na área: [link](http://revista.educacao.ws/revista/index.php/abenge/article/viewFile/1693/905)"
   ]
  },
  {
   "cell_type": "markdown",
   "metadata": {},
   "source": [
    "fala da inclusão de mulheres na área como pilar da ODS e analisa os dados de publicações de mulheres no Diário Oficial da União: [link](https://publicacoes.fcc.org.br/cp/article/view/9301/4440)"
   ]
  },
  {
   "cell_type": "markdown",
   "metadata": {},
   "source": [
    "traz estatísticas de ingresso, bem como dificuldades da permanência de mulheres na área de STEM (também é bom pelas referências): [link](http://pepsic.bvsalud.org/pdf/gerais/v14nspe/03.pdf)"
   ]
  },
  {
   "cell_type": "markdown",
   "metadata": {},
   "source": [
    "fala sobre problemas e evasão: [link](https://www.scielo.br/j/ep/a/M4W8kqJcTxBcCQhjpYsyMpR/?lang=pt)"
   ]
  },
  {
   "cell_type": "markdown",
   "metadata": {},
   "source": [
    "analisa a presença de mulheres em cursos de ciência e tecnologia no Brasil, Argentina e Paraguai: [link](https://rvq-sub.sbq.org.br/index.php/rvq/article/view/4162/935)"
   ]
  },
  {
   "cell_type": "markdown",
   "metadata": {},
   "source": [
    "analisa estudantes concluintes para tentar estabelecer pilares para a participação de mulheres em cursos STEM (esse é beeeeeem grandinho): [link](https://www.repositorioinsper.cloud/bitstream/11224/3187/1/Gabriella%20Garcia%20Santos_Trabalho.pdf)"
   ]
  }
 ],
 "metadata": {
  "kernelspec": {
   "display_name": "Python 3.9.12 ('base')",
   "language": "python",
   "name": "python3"
  },
  "language_info": {
   "name": "python",
   "version": "3.9.12"
  },
  "orig_nbformat": 4,
  "vscode": {
   "interpreter": {
    "hash": "6c01efea219ea0303b6e6cd1897665114cc62146ed112ea21ec489238fdae255"
   }
  }
 },
 "nbformat": 4,
 "nbformat_minor": 2
}
