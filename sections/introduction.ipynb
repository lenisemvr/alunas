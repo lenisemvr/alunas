{
 "cells": [
  {
   "cell_type": "raw",
   "metadata": {},
   "source": [
    "---\n",
    "title: \"Introdução\"\n",
    "bibliography: references.bib\n",
    "---"
   ]
  },
  {
   "cell_type": "markdown",
   "metadata": {},
   "source": [
    "# Estudo sobre a Participação das Mulheres nos Cursos de Graduação na Área de [STEM](https://en.wikipedia.org/wiki/Science,_technology,_engineering,_and_mathematics)\n",
    "\n",
    "De acordo com os dados do último levantamento do IBGE, as mulheres representam 51,8\\% da população brasileira.[^1] Contudo, apenas 51,56\\% das mulheres possuem colocação no mercado de trabalho, um índice 20\\% inferior ao masculino.[^2] Ao ampliar o olhar para a área de _STEM_ (Ciência, Tecnologia, Engenharia e Matemática, na sigla em inglês), de direta atuação dos autores, é possível perceber que apenas 26\\% dessa força de trabalho é feminina.[^3]\n",
    "\n",
    "No Brasil, os dados de graduandos por sexo demonstram que\n",
    "as mulheres têm maior inserção no ensino superior. Entretanto, predominam em cursos de Ciências Humanas e Sociais Aplicadas, mas\n",
    "não nas áreas _STEM_, onde é maior a presença dos homens.[^4] \n",
    "\n",
    "Contudo, se é inegável a necessidade de mais mulheres em _STEM_,[^5] por que as mulheres representam tão pouco nessa área? As mulheres fazem parte dos cursos de graduação de _STEM_? Quantas mulheres ocupam vagas de graduação nessa área? Quantas mulheres concluem essas graduações? Será que o prognóstico é positivo ou negativo? Essas perguntas serviram de base para a realização deste trabalho, que visa analisar a participação de mulheres nos cursos de graduação na área de _STEM_ com base no censo de educação superior do INEP - Instituto Nacional de Estudos e Pesquisas Educacionais Anísio Teixeira, considerando dados *entre 2010 e 2019*.\n",
    "\n",
    "[^1]: https://educa.ibge.gov.br/jovens/conheca-o-brasil/populacao/18320-quantidade-de-homens-e-mulheres.html#:~:text=Segundo\\%20dados\\%20da\\%20PNAD\\%20Cont\\%C3\\%ADnu,51\\%2C8\\%25\\%20de\\%20mulheres.\n",
    "[^2]: https://www.cnnbrasil.com.br/business/participacao-de-mulheres-no-mercado-de-trabalho-e-20-inferior-a-dos-homens/\n",
    "[^3]: https://movimentomulher360.com.br/mulheres-ocupam-apenas-26-das-vagas-em-areas-stem/\n",
    "[^4]: http://revista.educacao.ws/revista/index.php/abenge/article/viewFile/1693/905/\n",
    "[^5]: http://portal.sbpcnet.org.br/noticias/o-mundo-precisa-de-mais-mulheres-nas-carreiras-stem/"
   ]
  }
 ],
 "metadata": {
  "kernelspec": {
   "display_name": "Python 3.9.12 ('base')",
   "language": "python",
   "name": "python3"
  },
  "language_info": {
   "codemirror_mode": {
    "name": "ipython",
    "version": 3
   },
   "file_extension": ".py",
   "mimetype": "text/x-python",
   "name": "python",
   "nbconvert_exporter": "python",
   "pygments_lexer": "ipython3",
   "version": "3.9.12"
  },
  "orig_nbformat": 4,
  "vscode": {
   "interpreter": {
    "hash": "de2e2a7f76ec950c607c53417877c2c98a9c5e954222e12c19953f27b7e57dcb"
   }
  }
 },
 "nbformat": 4,
 "nbformat_minor": 2
}
