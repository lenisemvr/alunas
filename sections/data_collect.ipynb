{
 "cells": [
  {
   "cell_type": "raw",
   "metadata": {},
   "source": [
    "---\n",
    "title: \"Coleta dos Dados\"\n",
    "---"
   ]
  },
  {
   "cell_type": "code",
   "execution_count": 5,
   "metadata": {},
   "outputs": [
    {
     "data": {
      "text/html": [
       "<style type='text/css'>\n",
       ".datatable table.frame { margin-bottom: 0; }\n",
       ".datatable table.frame thead { border-bottom: none; }\n",
       ".datatable table.frame tr.coltypes td {  color: #FFFFFF;  line-height: 6px;  padding: 0 0.5em;}\n",
       ".datatable .bool    { background: #DDDD99; }\n",
       ".datatable .object  { background: #565656; }\n",
       ".datatable .int     { background: #5D9E5D; }\n",
       ".datatable .float   { background: #4040CC; }\n",
       ".datatable .str     { background: #CC4040; }\n",
       ".datatable .time    { background: #40CC40; }\n",
       ".datatable .row_index {  background: var(--jp-border-color3);  border-right: 1px solid var(--jp-border-color0);  color: var(--jp-ui-font-color3);  font-size: 9px;}\n",
       ".datatable .frame tbody td { text-align: left; }\n",
       ".datatable .frame tr.coltypes .row_index {  background: var(--jp-border-color0);}\n",
       ".datatable th:nth-child(2) { padding-left: 12px; }\n",
       ".datatable .hellipsis {  color: var(--jp-cell-editor-border-color);}\n",
       ".datatable .vellipsis {  background: var(--jp-layout-color0);  color: var(--jp-cell-editor-border-color);}\n",
       ".datatable .na {  color: var(--jp-cell-editor-border-color);  font-size: 80%;}\n",
       ".datatable .sp {  opacity: 0.25;}\n",
       ".datatable .footer { font-size: 9px; }\n",
       ".datatable .frame_dimensions {  background: var(--jp-border-color3);  border-top: 1px solid var(--jp-border-color0);  color: var(--jp-ui-font-color3);  display: inline-block;  opacity: 0.6;  padding: 1px 10px 1px 5px;}\n",
       "</style>\n"
      ],
      "text/plain": [
       "<IPython.core.display.HTML object>"
      ]
     },
     "metadata": {},
     "output_type": "display_data"
    }
   ],
   "source": [
    "import pandas as pd\n",
    "from datatable import dt, f"
   ]
  },
  {
   "cell_type": "markdown",
   "metadata": {},
   "source": [
    "TODO: Deixar aqui apenas os dados brutos"
   ]
  },
  {
   "cell_type": "markdown",
   "metadata": {},
   "source": [
    "# Aquisição dos dados brutos"
   ]
  },
  {
   "cell_type": "markdown",
   "metadata": {},
   "source": [
    "Primeiramente, conforme falado na seção anterior, unimos os microdados de todos os anos para ter um olhar menos fechado em um único ano."
   ]
  },
  {
   "cell_type": "code",
   "execution_count": 9,
   "metadata": {},
   "outputs": [],
   "source": [
    "def get_path_table_by_year(year):\n",
    "  path_table = '/'.join([\n",
    "    '../data/raw',\n",
    "    'censo_{year}.zip',\n",
    "    'Microdados do Censo da Educaç╞o Superior {year}',\n",
    "    'dados',\n",
    "    'MICRODADOS_CADASTRO_CURSOS_{year}.CSV'\n",
    "  ]).format(year = year)\n",
    "  return path_table"
   ]
  },
  {
   "cell_type": "code",
   "execution_count": 10,
   "metadata": {},
   "outputs": [],
   "source": [
    "def aggregate_raw_data(from_year, to_year):\n",
    "  for y in range(from_year, to_year + 1):\n",
    "    path_table = get_path_table_by_year(y)\n",
    "    dataset = dt.fread(path_table)\n",
    "  return dataset"
   ]
  },
  {
   "cell_type": "code",
   "execution_count": 11,
   "metadata": {},
   "outputs": [
    {
     "data": {
      "text/html": [
       "<div class='datatable'>\n",
       "  <table class='frame'>\n",
       "  <thead>\n",
       "    <tr class='colnames'><td class='row_index'></td><th>NU_ANO_CENSO</th><th>NO_REGIAO</th><th>CO_REGIAO</th><th>NO_UF</th><th>SG_UF</th><th>CO_UF</th><th>NO_MUNICIPIO</th><th>CO_MUNICIPIO</th><th>IN_CAPITAL</th><th>TP_ORGANIZACAO_ACADEMICA</th><th class='vellipsis'>&hellip;</th><th>QT_CONC_ATIV_EXTRACURRICULAR</th><th>QT_MOB_ACADEMICA</th><th>QT_ING_MOB_ACADEMICA</th><th>QT_MAT_MOB_ACADEMICA</th><th>QT_CONC_MOB_ACADEMICA</th></tr>\n",
       "    <tr class='coltypes'><td class='row_index'></td><td class='int' title='int32'>&#x25AA;&#x25AA;&#x25AA;&#x25AA;</td><td class='str' title='str32'>&#x25AA;&#x25AA;&#x25AA;&#x25AA;</td><td class='int' title='int32'>&#x25AA;&#x25AA;&#x25AA;&#x25AA;</td><td class='str' title='str32'>&#x25AA;&#x25AA;&#x25AA;&#x25AA;</td><td class='str' title='str32'>&#x25AA;&#x25AA;&#x25AA;&#x25AA;</td><td class='int' title='int32'>&#x25AA;&#x25AA;&#x25AA;&#x25AA;</td><td class='str' title='str32'>&#x25AA;&#x25AA;&#x25AA;&#x25AA;</td><td class='int' title='int32'>&#x25AA;&#x25AA;&#x25AA;&#x25AA;</td><td class='bool' title='bool8'>&#x25AA;</td><td class='int' title='int32'>&#x25AA;&#x25AA;&#x25AA;&#x25AA;</td><td></td><td class='int' title='int32'>&#x25AA;&#x25AA;&#x25AA;&#x25AA;</td><td class='int' title='int32'>&#x25AA;&#x25AA;&#x25AA;&#x25AA;</td><td class='int' title='int32'>&#x25AA;&#x25AA;&#x25AA;&#x25AA;</td><td class='int' title='int32'>&#x25AA;&#x25AA;&#x25AA;&#x25AA;</td><td class='int' title='int32'>&#x25AA;&#x25AA;&#x25AA;&#x25AA;</td></tr>\n",
       "  </thead>\n",
       "  <tbody>\n",
       "    <tr><td class='row_index'>0</td><td>2019</td><td>Centro-Oeste</td><td>5</td><td>Mato Grosso</td><td>MT</td><td>51</td><td>Água Boa</td><td>5100201</td><td>0</td><td>1</td><td class=vellipsis>&hellip;</td><td>0</td><td>0</td><td>0</td><td>0</td><td>0</td></tr>\n",
       "    <tr><td class='row_index'>1</td><td>2019</td><td>Centro-Oeste</td><td>5</td><td>Mato Grosso</td><td>MT</td><td>51</td><td>Água Boa</td><td>5100201</td><td>0</td><td>1</td><td class=vellipsis>&hellip;</td><td>0</td><td>0</td><td>0</td><td>0</td><td>0</td></tr>\n",
       "    <tr><td class='row_index'>2</td><td>2019</td><td>Centro-Oeste</td><td>5</td><td>Mato Grosso</td><td>MT</td><td>51</td><td>Água Boa</td><td>5100201</td><td>0</td><td>1</td><td class=vellipsis>&hellip;</td><td>0</td><td>0</td><td>0</td><td>0</td><td>0</td></tr>\n",
       "    <tr><td class='row_index'>3</td><td>2019</td><td>Centro-Oeste</td><td>5</td><td>Mato Grosso</td><td>MT</td><td>51</td><td>Alto Araguaia</td><td>5100300</td><td>0</td><td>1</td><td class=vellipsis>&hellip;</td><td>0</td><td>0</td><td>0</td><td>0</td><td>0</td></tr>\n",
       "    <tr><td class='row_index'>4</td><td>2019</td><td>Centro-Oeste</td><td>5</td><td>Mato Grosso</td><td>MT</td><td>51</td><td>Aripuanã</td><td>5101407</td><td>0</td><td>1</td><td class=vellipsis>&hellip;</td><td>0</td><td>0</td><td>0</td><td>0</td><td>0</td></tr>\n",
       "    <tr><td class='row_index'>5</td><td>2019</td><td>Centro-Oeste</td><td>5</td><td>Mato Grosso</td><td>MT</td><td>51</td><td>Aripuanã</td><td>5101407</td><td>0</td><td>1</td><td class=vellipsis>&hellip;</td><td>0</td><td>0</td><td>0</td><td>0</td><td>0</td></tr>\n",
       "    <tr><td class='row_index'>6</td><td>2019</td><td>Centro-Oeste</td><td>5</td><td>Mato Grosso</td><td>MT</td><td>51</td><td>Aripuanã</td><td>5101407</td><td>0</td><td>1</td><td class=vellipsis>&hellip;</td><td>0</td><td>0</td><td>0</td><td>0</td><td>0</td></tr>\n",
       "    <tr><td class='row_index'>7</td><td>2019</td><td>Centro-Oeste</td><td>5</td><td>Mato Grosso</td><td>MT</td><td>51</td><td>Barra do Garças</td><td>5101803</td><td>0</td><td>1</td><td class=vellipsis>&hellip;</td><td>4</td><td>0</td><td>0</td><td>0</td><td>0</td></tr>\n",
       "    <tr><td class='row_index'>8</td><td>2019</td><td>Centro-Oeste</td><td>5</td><td>Mato Grosso</td><td>MT</td><td>51</td><td>Barra do Garças</td><td>5101803</td><td>0</td><td>1</td><td class=vellipsis>&hellip;</td><td>6</td><td>0</td><td>0</td><td>0</td><td>0</td></tr>\n",
       "    <tr><td class='row_index'>9</td><td>2019</td><td>Centro-Oeste</td><td>5</td><td>Mato Grosso</td><td>MT</td><td>51</td><td>Barra do Garças</td><td>5101803</td><td>0</td><td>1</td><td class=vellipsis>&hellip;</td><td>3</td><td>0</td><td>0</td><td>0</td><td>0</td></tr>\n",
       "    <tr><td class='row_index'>10</td><td>2019</td><td>Centro-Oeste</td><td>5</td><td>Mato Grosso</td><td>MT</td><td>51</td><td>Barra do Garças</td><td>5101803</td><td>0</td><td>1</td><td class=vellipsis>&hellip;</td><td>5</td><td>1</td><td>0</td><td>1</td><td>0</td></tr>\n",
       "    <tr><td class='row_index'>11</td><td>2019</td><td>Centro-Oeste</td><td>5</td><td>Mato Grosso</td><td>MT</td><td>51</td><td>Barra do Garças</td><td>5101803</td><td>0</td><td>1</td><td class=vellipsis>&hellip;</td><td>4</td><td>0</td><td>0</td><td>0</td><td>0</td></tr>\n",
       "    <tr><td class='row_index'>12</td><td>2019</td><td>Centro-Oeste</td><td>5</td><td>Mato Grosso</td><td>MT</td><td>51</td><td>Barra do Garças</td><td>5101803</td><td>0</td><td>1</td><td class=vellipsis>&hellip;</td><td>5</td><td>0</td><td>0</td><td>0</td><td>0</td></tr>\n",
       "    <tr><td class='row_index'>13</td><td>2019</td><td>Centro-Oeste</td><td>5</td><td>Mato Grosso</td><td>MT</td><td>51</td><td>Barra do Garças</td><td>5101803</td><td>0</td><td>1</td><td class=vellipsis>&hellip;</td><td>7</td><td>1</td><td>0</td><td>1</td><td>1</td></tr>\n",
       "    <tr><td class='row_index'>14</td><td>2019</td><td>Centro-Oeste</td><td>5</td><td>Mato Grosso</td><td>MT</td><td>51</td><td>Barra do Garças</td><td>5101803</td><td>0</td><td>1</td><td class=vellipsis>&hellip;</td><td>13</td><td>1</td><td>0</td><td>1</td><td>0</td></tr>\n",
       "    <tr><td class='row_index'>&#x22EE;</td><td class='hellipsis'>&#x22EE;</td><td class='hellipsis'>&#x22EE;</td><td class='hellipsis'>&#x22EE;</td><td class='hellipsis'>&#x22EE;</td><td class='hellipsis'>&#x22EE;</td><td class='hellipsis'>&#x22EE;</td><td class='hellipsis'>&#x22EE;</td><td class='hellipsis'>&#x22EE;</td><td class='hellipsis'>&#x22EE;</td><td class='hellipsis'>&#x22EE;</td><td class='hellipsis'>&#x22F1;</td><td class='hellipsis'>&#x22EE;</td><td class='hellipsis'>&#x22EE;</td><td class='hellipsis'>&#x22EE;</td><td class='hellipsis'>&#x22EE;</td><td class='hellipsis'>&#x22EE;</td></tr>\n",
       "    <tr><td class='row_index'>246,076</td><td>2019</td><td>Sudeste</td><td>3</td><td>Rio de Janeiro</td><td>RJ</td><td>33</td><td>Barra Mansa</td><td>3300407</td><td>0</td><td>3</td><td class=vellipsis>&hellip;</td><td>0</td><td>0</td><td>0</td><td>0</td><td>0</td></tr>\n",
       "    <tr><td class='row_index'>246,077</td><td>2019</td><td>Centro-Oeste</td><td>5</td><td>Distrito Federal</td><td>DF</td><td>53</td><td>Brasília</td><td>5300108</td><td>1</td><td>3</td><td class=vellipsis>&hellip;</td><td>0</td><td>0</td><td>0</td><td>0</td><td>0</td></tr>\n",
       "    <tr><td class='row_index'>246,078</td><td>2019</td><td>Sudeste</td><td>3</td><td>São Paulo</td><td>SP</td><td>35</td><td>Sumaré</td><td>3552403</td><td>0</td><td>3</td><td class=vellipsis>&hellip;</td><td>0</td><td>0</td><td>0</td><td>0</td><td>0</td></tr>\n",
       "    <tr><td class='row_index'>246,079</td><td>2019</td><td>Sudeste</td><td>3</td><td>São Paulo</td><td>SP</td><td>35</td><td>Indaiatuba</td><td>3520509</td><td>0</td><td>3</td><td class=vellipsis>&hellip;</td><td>0</td><td>0</td><td>0</td><td>0</td><td>0</td></tr>\n",
       "    <tr><td class='row_index'>246,080</td><td>2019</td><td>Sudeste</td><td>3</td><td>São Paulo</td><td>SP</td><td>35</td><td>Matão</td><td>3529302</td><td>0</td><td>3</td><td class=vellipsis>&hellip;</td><td>0</td><td>0</td><td>0</td><td>0</td><td>0</td></tr>\n",
       "  </tbody>\n",
       "  </table>\n",
       "  <div class='footer'>\n",
       "    <div class='frame_dimensions'>246,081 rows &times; 196 columns</div>\n",
       "  </div>\n",
       "</div>\n"
      ],
      "text/plain": [
       "<Frame#7fbdd3eb9e70 246081x196>"
      ]
     },
     "metadata": {},
     "output_type": "display_data"
    }
   ],
   "source": [
    "df_raw = aggregate_raw_data(2010, 2019)\n",
    "display(df_raw)"
   ]
  },
  {
   "cell_type": "markdown",
   "metadata": {},
   "source": [
    "Para salvar esses dados agregados em um csv, é necessário fazer o seguinte:"
   ]
  },
  {
   "cell_type": "code",
   "execution_count": 19,
   "metadata": {},
   "outputs": [],
   "source": [
    "df_raw.to_csv('../data/raw/aggregated_dataset.csv')"
   ]
  },
  {
   "cell_type": "markdown",
   "metadata": {},
   "source": [
    "Após a agregação, a tabela bruta para trabalho ficou com 246,081 linhas e 196 colunas.  \n",
    "Após isso, era necessário entender mais sobre as principais características e atributos da base que nos seriam interessantes."
   ]
  }
 ],
 "metadata": {
  "kernelspec": {
   "display_name": "Python 3.9.12 ('base')",
   "language": "python",
   "name": "python3"
  },
  "language_info": {
   "codemirror_mode": {
    "name": "ipython",
    "version": 3
   },
   "file_extension": ".py",
   "mimetype": "text/x-python",
   "name": "python",
   "nbconvert_exporter": "python",
   "pygments_lexer": "ipython3",
   "version": "3.9.12"
  },
  "orig_nbformat": 4,
  "vscode": {
   "interpreter": {
    "hash": "de2e2a7f76ec950c607c53417877c2c98a9c5e954222e12c19953f27b7e57dcb"
   }
  }
 },
 "nbformat": 4,
 "nbformat_minor": 2
}
